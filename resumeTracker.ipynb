{
 "cells": [
  {
   "cell_type": "code",
   "execution_count": 1,
   "id": "8ab1f97b-4dad-4a6a-b4bb-52a674d0a4b2",
   "metadata": {},
   "outputs": [],
   "source": [
    "import re\n",
    "import spacy\n",
    "from pdfminer.high_level import extract_text"
   ]
  },
  {
   "cell_type": "code",
   "execution_count": 2,
   "id": "71fc9bef-1ce1-4a5e-a695-94a5339a3e1c",
   "metadata": {},
   "outputs": [],
   "source": [
    "# Load pre-trained SpaCy model for NER\n",
    "nlp = spacy.load(\"en_core_web_sm\")"
   ]
  },
  {
   "cell_type": "code",
   "execution_count": 3,
   "id": "b2a9fddb-5678-4e83-9eb3-94d4f9b3630a",
   "metadata": {},
   "outputs": [],
   "source": [
    "def extract_text_from_pdf(file_path):\n",
    "    \"\"\"Extract text from a PDF file.\"\"\"\n",
    "    try:\n",
    "        text = extract_text(file_path)\n",
    "        return text\n",
    "    except Exception as e:\n",
    "        print(f\"Error extracting text: {e}\")\n",
    "        return None"
   ]
  },
  {
   "cell_type": "code",
   "execution_count": 4,
   "id": "eb1eb953-b624-4e8f-b76d-2fd5b2d7adf7",
   "metadata": {},
   "outputs": [],
   "source": [
    "def extract_entities(text):\n",
    "    \"\"\"Extract named entities from the text using SpaCy.\"\"\"\n",
    "    doc = nlp(text)\n",
    "    entities = {\n",
    "        \"PERSON\": [],\n",
    "        \"ORG\": [],\n",
    "        \"DATE\": [],\n",
    "        \"GPE\": [],\n",
    "        \"SKILLS\": []\n",
    "    }\n",
    "    for ent in doc.ents:\n",
    "        if ent.label_ in entities:\n",
    "            entities[ent.label_].append(ent.text)\n",
    "    return entities"
   ]
  },
  {
   "cell_type": "code",
   "execution_count": 5,
   "id": "5444b61d-063a-4346-aef8-09156cf1cfa3",
   "metadata": {},
   "outputs": [],
   "source": [
    "def extract_skills(text):\n",
    "    \"\"\"Extract skills using keyword matching.\"\"\"\n",
    "    skills_list = [\"Python\", \"Java\", \"C++\", \"Machine Learning\", \"Data Analysis\", \"Project Management\", \"SQL\", \"React\", \"Node.js\"]\n",
    "    found_skills = []\n",
    "    for skill in skills_list:\n",
    "        if re.search(rf\"\\\\b{re.escape(skill)}\\\\b\", text, re.IGNORECASE):\n",
    "            found_skills.append(skill)\n",
    "    return found_skills"
   ]
  },
  {
   "cell_type": "code",
   "execution_count": 6,
   "id": "5e5f457e-acfa-4c58-8006-b8ba75690ad8",
   "metadata": {},
   "outputs": [],
   "source": [
    "def structure_data(entities, skills):\n",
    "    \"\"\"Organize extracted data into a structured format.\"\"\"\n",
    "    structured_data = {\n",
    "        \"Name\": entities.get(\"PERSON\", [None])[0],\n",
    "        \"Organizations\": entities.get(\"ORG\", []),\n",
    "        \"Dates\": entities.get(\"DATE\", []),\n",
    "        \"Locations\": entities.get(\"GPE\", []),\n",
    "        \"Skills\": skills\n",
    "    }\n",
    "    return structured_data"
   ]
  },
  {
   "cell_type": "code",
   "execution_count": 20,
   "id": "4c0c96d8-5056-4545-80c1-29f6df0e74cf",
   "metadata": {},
   "outputs": [
    {
     "name": "stdout",
     "output_type": "stream",
     "text": [
      "Extracted and Organized Resume Information:\n",
      "{'Name': 'Html', 'Organizations': ['|rahuldutta1237@gmail.com', 'Artificial Intelligence and Machine Learning', 'St. Xavier’s College\\n JAC Board', 'Holy Cross School', 'CBSE Board', 'CSS', 'CSS', 'HTML', 'CSS', 'HTML', 'CSS', 'HTML', 'CSS', 'Firebase \\n\\n• Developed a Ecommerce', 'SkillCraft Technology', 'Pinnacle Labs (', 'C/C++', 'SQL', 'JavaScript', 'HTML/CSS\\nDeveloper Tools', 'Team Management\\n\\nCertifications', 'Hadoop Training\\n\\nWeb Development\\n\\nData Structure', 'Python\\n\\nPython Fundamentals\\n\\nAchievements\\n\\nMedal of', '2nd Semester\\n\\nCertificate Of Participation(Hackathon', 'Science Olympiad Foundation(SOF'], 'Dates': ['2022 - 2026', '2020 - 2022', '2019 - 2020', '2024 - Dec 2024'], 'Locations': ['Bengaluru', 'Karnataka', 'Ranchi', 'Jharkhand', 'Jharkhand', 'NumPy', 'Merit', 'Banglore'], 'Skills': []}\n"
     ]
    }
   ],
   "source": [
    "if __name__ == \"__main__\":\n",
    "    # Example file path for a resume PDF\n",
    "    file_path = r\"D:\\certificate\\Rahulduttaresume.pdf\"\n",
    "\n",
    "    # Step 1: Extract text from PDF\n",
    "    resume_text = extract_text_from_pdf(r\"D:\\certificate\\Rahulduttaresume.pdf\")\n",
    "\n",
    "    if resume_text:\n",
    "        # Step 2: Extract entities using SpaCy\n",
    "        entities = extract_entities(resume_text)\n",
    "\n",
    "        # Step 3: Extract skills\n",
    "        skills = extract_skills(resume_text)\n",
    "\n",
    "        # Step 4: Structure the data\n",
    "        structured_resume = structure_data(entities, skills)\n",
    "\n",
    "        # Output structured data\n",
    "        print(\"Extracted and Organized Resume Information:\")\n",
    "        print(structured_resume)"
   ]
  },
  {
   "cell_type": "code",
   "execution_count": null,
   "id": "e23273aa-40e9-4c4a-8d66-68becb12061b",
   "metadata": {},
   "outputs": [],
   "source": []
  }
 ],
 "metadata": {
  "kernelspec": {
   "display_name": "Python 3 (ipykernel)",
   "language": "python",
   "name": "python3"
  },
  "language_info": {
   "codemirror_mode": {
    "name": "ipython",
    "version": 3
   },
   "file_extension": ".py",
   "mimetype": "text/x-python",
   "name": "python",
   "nbconvert_exporter": "python",
   "pygments_lexer": "ipython3",
   "version": "3.12.3"
  }
 },
 "nbformat": 4,
 "nbformat_minor": 5
}
